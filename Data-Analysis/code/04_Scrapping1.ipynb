{
 "cells": [
  {
   "cell_type": "markdown",
   "metadata": {},
   "source": [
    "## urllib 사용법 및 기본 스크랩핑\n",
    "\n",
    "- 네이버에서 고양이로 검색하고 이미지 탭에서 선택한 이미지 URL로 로컬에 파일다운로드\n",
    "- urllib.request.urlretrieve()"
   ]
  },
  {
   "cell_type": "code",
   "execution_count": 1,
   "metadata": {},
   "outputs": [],
   "source": [
    "import urllib.request as req"
   ]
  },
  {
   "cell_type": "code",
   "execution_count": 2,
   "metadata": {},
   "outputs": [
    {
     "name": "stdout",
     "output_type": "stream",
     "text": [
      "https://images.unsplash.com/photo-1451340124423-6311db67a5d9?ixlib=rb-1.2.1&ixid=eyJhcHBfaWQiOjEyMDd9&auto=format&fit=crop&w=500&q=60\n"
     ]
    }
   ],
   "source": [
    "# 파일 URL\n",
    "img_url = \"https://images.unsplash.com/photo-1451340124423-6311db67a5d9\" \\\n",
    "\"?ixlib=rb-1.2.1&ixid=eyJhcHBfaWQiOjEyMDd9&auto=format&fit=crop&w=500&q=60\"\n",
    "html_url = \"http://google.com\"\n",
    "\n",
    "# 다운받을 경로\n",
    "save_path1 = \"../output/test1.jpg\"\n",
    "save_path2 = \"../output/index.html\"\n",
    "\n",
    "print(img_url)"
   ]
  },
  {
   "cell_type": "code",
   "execution_count": 3,
   "metadata": {},
   "outputs": [
    {
     "name": "stdout",
     "output_type": "stream",
     "text": [
      "Filename1 ../data/test1.jpg\n",
      "Filename2 ../data/index.html\n",
      "\n",
      "Download Succeed.\n"
     ]
    }
   ],
   "source": [
    "# 예외 처리\n",
    "try:\n",
    "    file1, header1 = req.urlretrieve(img_url, save_path1)\n",
    "    file2, header2 = req.urlretrieve(html_url, save_path2)\n",
    "except Exception as e:\n",
    "    print(\"Download failed.\")\n",
    "    print(e)\n",
    "else:\n",
    "    # Header 정보 출력\n",
    "    #print(header1)\n",
    "    #print(header2)\n",
    "    \n",
    "    # 다운로드 파일 정보\n",
    "    print(\"Filename1 {}\".format(file1))\n",
    "    print(\"Filename2 {}\".format(file2))\n",
    "    print()\n",
    "    \n",
    "    # 성공\n",
    "    print(\"Download Succeed.\")"
   ]
  },
  {
   "cell_type": "code",
   "execution_count": null,
   "metadata": {},
   "outputs": [],
   "source": []
  }
 ],
 "metadata": {
  "kernelspec": {
   "display_name": "Python 3",
   "language": "python",
   "name": "python3"
  },
  "language_info": {
   "codemirror_mode": {
    "name": "ipython",
    "version": 3
   },
   "file_extension": ".py",
   "mimetype": "text/x-python",
   "name": "python",
   "nbconvert_exporter": "python",
   "pygments_lexer": "ipython3",
   "version": "3.7.3"
  }
 },
 "nbformat": 4,
 "nbformat_minor": 2
}

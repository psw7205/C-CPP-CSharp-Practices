{
 "cells": [
  {
   "cell_type": "markdown",
   "metadata": {},
   "source": [
    "## urlopen 함수 기초 사용법\n",
    "\n",
    "- 네이버에서 고양이로 검색하고 이미지 탭에서 선택한 이미지 URL로 로컬에 파일다운로드\n",
    "- urllib.request.urlopen()\n",
    "- URLError : 잘못된 주소를 요청하는 경우\n",
    "- HTTPError : 서버가 접속이 안되는 경우"
   ]
  },
  {
   "cell_type": "code",
   "execution_count": 1,
   "metadata": {},
   "outputs": [],
   "source": [
    "import urllib.request as req\n",
    "from urllib.error import URLError, HTTPError"
   ]
  },
  {
   "cell_type": "code",
   "execution_count": 2,
   "metadata": {},
   "outputs": [],
   "source": [
    "# 다운로드 경로 및 파일명\n",
    "path_list = [\"../output/test1.jpg\", \"../output/index.html\"]\n",
    "\n",
    "# 다운로드 리소스 URL\n",
    "target_url = [\"https://images.unsplash.com/photo-1451340124423-6311db67a5d9\" \\\n",
    "              \"?ixlib=rb-1.2.1&ixid=eyJhcHBfaWQiOjEyMDd9&auto=format&fit=crop&w=500&q=60\",\n",
    "              \"http://google.com\"]"
   ]
  },
  {
   "cell_type": "code",
   "execution_count": 3,
   "metadata": {},
   "outputs": [
    {
     "name": "stdout",
     "output_type": "stream",
     "text": [
      "---------------------------------------------------\n",
      "Header Info-0 : Cache-Control: public,max-age=315360000\n",
      "Last-Modified: Mon, 11 Mar 2019 15:16:09 GMT\n",
      "X-Imgix-ID: ab1050adad313844369b32dd5024611ab2ab6278\n",
      "Server: imgix-fe\n",
      "Content-Length: 22782\n",
      "Date: Fri, 02 Aug 2019 00:21:10 GMT\n",
      "Connection: close\n",
      "Age: 12387901\n",
      "Accept-Ranges: bytes\n",
      "Set-Cookie: ugid=5959c35c4def6feb1dd5ba296816a5ef5215684;domain=.unsplash.com;path=/;expires=Sat, 01 Aug 2020 00:21:10 GMT\n",
      "Content-Type: image/jpeg\n",
      "Access-Control-Allow-Origin: *\n",
      "X-Content-Type-Options: nosniff\n",
      "X-Served-By: cache-lax8638-LAX, cache-hnd18742-HND\n",
      "X-Cache: HIT, HIT\n",
      "Vary: Accept, User-Agent\n",
      "\n",
      "\n",
      "HTTP Status Code : 200\n",
      "\n",
      "---------------------------------------------------\n",
      "\n",
      "Download Succeed.\n",
      "---------------------------------------------------\n",
      "Header Info-1 : Date: Fri, 02 Aug 2019 00:21:11 GMT\n",
      "Expires: -1\n",
      "Cache-Control: private, max-age=0\n",
      "Content-Type: text/html; charset=ISO-8859-1\n",
      "P3P: CP=\"This is not a P3P policy! See g.co/p3phelp for more info.\"\n",
      "Server: gws\n",
      "X-XSS-Protection: 0\n",
      "X-Frame-Options: SAMEORIGIN\n",
      "Set-Cookie: 1P_JAR=2019-08-02-00; expires=Sun, 01-Sep-2019 00:21:11 GMT; path=/; domain=.google.com\n",
      "Set-Cookie: NID=188=UkVBvgj9rriuTruepyxMzftR-TDzNIEyOuYBs0Ze-_B85Z0PYOonZQEz7_Hu3dGpJ6lrdJ6vQJGkWC7Nxl62RYuWgv0wXuu1mJgNNfy6In0sDRmoPJITgNmw4mh-oMq0RPcWXLymH5maL0Q7q0wBfVYkSVvVl69_vbkI4NjTeRg; expires=Sat, 01-Feb-2020 00:21:11 GMT; path=/; domain=.google.com; HttpOnly\n",
      "Accept-Ranges: none\n",
      "Vary: Accept-Encoding\n",
      "Connection: close\n",
      "\n",
      "\n",
      "HTTP Status Code : 200\n",
      "\n",
      "---------------------------------------------------\n",
      "\n",
      "Download Succeed.\n"
     ]
    }
   ],
   "source": [
    "for i, url in enumerate(target_url):\n",
    "    # 예외 처리\n",
    "    try:\n",
    "        # 웹 수신 정보 읽기\n",
    "        response = req.urlopen(url)\n",
    "        \n",
    "        # 수신 내용\n",
    "        contents = response.read()\n",
    "\n",
    "        print('---------------------------------------------------')\n",
    "\n",
    "        # 상태 정보 중간 출력\n",
    "        print('Header Info-{} : {}'.format(i, response.info()))\n",
    "        print('HTTP Status Code : {}'.format(response.getcode()))\n",
    "        print()\n",
    "        print('---------------------------------------------------')\n",
    "\n",
    "        # 파일 쓰기\n",
    "        with open(path_list[i], 'wb') as c:\n",
    "            c.write(contents)\n",
    "\n",
    "        # HTTP 에러 발생 시\n",
    "    except HTTPError as e:\n",
    "        print(\"Download failed.\")\n",
    "        print('HTTPError Code : ', e.code)\n",
    "\n",
    "        # URL 에러 발생 시\n",
    "    except URLError as e:\n",
    "        print(\"Download failed.\")\n",
    "        print('URL Error Reason : ', e.reason)\n",
    "\n",
    "        # 성공\n",
    "    else:\n",
    "        print()\n",
    "        print(\"Download Succeed.\")"
   ]
  },
  {
   "cell_type": "code",
   "execution_count": null,
   "metadata": {},
   "outputs": [],
   "source": []
  }
 ],
 "metadata": {
  "kernelspec": {
   "display_name": "Python 3",
   "language": "python",
   "name": "python3"
  },
  "language_info": {
   "codemirror_mode": {
    "name": "ipython",
    "version": 3
   },
   "file_extension": ".py",
   "mimetype": "text/x-python",
   "name": "python",
   "nbconvert_exporter": "python",
   "pygments_lexer": "ipython3",
   "version": "3.7.3"
  }
 },
 "nbformat": 4,
 "nbformat_minor": 2
}

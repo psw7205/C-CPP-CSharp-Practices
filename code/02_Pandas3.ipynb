{
 "cells": [
  {
   "cell_type": "code",
   "execution_count": 1,
   "metadata": {},
   "outputs": [],
   "source": [
    "import numpy as np\n",
    "import pandas as pd"
   ]
  },
  {
   "cell_type": "markdown",
   "metadata": {},
   "source": [
    "## pd.date_range() 함수 알아보기\n",
    "\n",
    "- 연속적인 날짜 데이터에 사용\n",
    "- pd.date_range(초기날짜, periods=count)"
   ]
  },
  {
   "cell_type": "code",
   "execution_count": 2,
   "metadata": {},
   "outputs": [
    {
     "data": {
      "text/plain": [
       "array([ 1,  2,  3,  4,  5,  6,  7,  8,  9, 10])"
      ]
     },
     "execution_count": 2,
     "metadata": {},
     "output_type": "execute_result"
    }
   ],
   "source": [
    "# 연속된 숫자를 출력 \n",
    "np.arange(1,11)"
   ]
  },
  {
   "cell_type": "code",
   "execution_count": 3,
   "metadata": {},
   "outputs": [
    {
     "data": {
      "text/plain": [
       "DatetimeIndex(['2019-02-26', '2019-02-27', '2019-02-28', '2019-03-01',\n",
       "               '2019-03-02'],\n",
       "              dtype='datetime64[ns]', freq='D')"
      ]
     },
     "execution_count": 3,
     "metadata": {},
     "output_type": "execute_result"
    }
   ],
   "source": [
    "# 연속된 날짜 데이터 생성\n",
    "date_list = pd.date_range('20190226', periods=5)\n",
    "date_list"
   ]
  },
  {
   "cell_type": "code",
   "execution_count": 4,
   "metadata": {},
   "outputs": [
    {
     "data": {
      "text/plain": [
       "pandas.core.indexes.datetimes.DatetimeIndex"
      ]
     },
     "execution_count": 4,
     "metadata": {},
     "output_type": "execute_result"
    }
   ],
   "source": [
    "type(date_list)"
   ]
  },
  {
   "cell_type": "markdown",
   "metadata": {},
   "source": [
    "## 행별 열별로 정렬하기\n",
    "\n",
    "- 데이타프레임이름.sort_index(axis=0)\n",
    "- 데이타프레임이름.sort_index(axis=1)\n",
    "- 데이타프레임이름.sort_index(axis=0/1, ascending=False)\n",
    "- 원본 데이타프레임 데이터값은 변경이 없다"
   ]
  },
  {
   "cell_type": "code",
   "execution_count": 5,
   "metadata": {},
   "outputs": [
    {
     "data": {
      "text/html": [
       "<div>\n",
       "<style scoped>\n",
       "    .dataframe tbody tr th:only-of-type {\n",
       "        vertical-align: middle;\n",
       "    }\n",
       "\n",
       "    .dataframe tbody tr th {\n",
       "        vertical-align: top;\n",
       "    }\n",
       "\n",
       "    .dataframe thead th {\n",
       "        text-align: right;\n",
       "    }\n",
       "</style>\n",
       "<table border=\"1\" class=\"dataframe\">\n",
       "  <thead>\n",
       "    <tr style=\"text-align: right;\">\n",
       "      <th></th>\n",
       "      <th>0</th>\n",
       "      <th>1</th>\n",
       "      <th>2</th>\n",
       "      <th>3</th>\n",
       "    </tr>\n",
       "  </thead>\n",
       "  <tbody>\n",
       "    <tr>\n",
       "      <th>0</th>\n",
       "      <td>-1.331896</td>\n",
       "      <td>-1.631497</td>\n",
       "      <td>0.123840</td>\n",
       "      <td>0.798577</td>\n",
       "    </tr>\n",
       "    <tr>\n",
       "      <th>1</th>\n",
       "      <td>-0.333579</td>\n",
       "      <td>-1.413326</td>\n",
       "      <td>2.572754</td>\n",
       "      <td>0.344648</td>\n",
       "    </tr>\n",
       "    <tr>\n",
       "      <th>2</th>\n",
       "      <td>1.309976</td>\n",
       "      <td>2.331791</td>\n",
       "      <td>-0.368692</td>\n",
       "      <td>0.950627</td>\n",
       "    </tr>\n",
       "    <tr>\n",
       "      <th>3</th>\n",
       "      <td>1.275169</td>\n",
       "      <td>-0.087792</td>\n",
       "      <td>0.809987</td>\n",
       "      <td>-0.087855</td>\n",
       "    </tr>\n",
       "    <tr>\n",
       "      <th>4</th>\n",
       "      <td>-0.617478</td>\n",
       "      <td>1.710219</td>\n",
       "      <td>-0.659773</td>\n",
       "      <td>-0.429050</td>\n",
       "    </tr>\n",
       "    <tr>\n",
       "      <th>5</th>\n",
       "      <td>-1.584088</td>\n",
       "      <td>1.299255</td>\n",
       "      <td>0.565431</td>\n",
       "      <td>-0.558894</td>\n",
       "    </tr>\n",
       "  </tbody>\n",
       "</table>\n",
       "</div>"
      ],
      "text/plain": [
       "          0         1         2         3\n",
       "0 -1.331896 -1.631497  0.123840  0.798577\n",
       "1 -0.333579 -1.413326  2.572754  0.344648\n",
       "2  1.309976  2.331791 -0.368692  0.950627\n",
       "3  1.275169 -0.087792  0.809987 -0.087855\n",
       "4 -0.617478  1.710219 -0.659773 -0.429050\n",
       "5 -1.584088  1.299255  0.565431 -0.558894"
      ]
     },
     "execution_count": 5,
     "metadata": {},
     "output_type": "execute_result"
    }
   ],
   "source": [
    "df1 = pd.DataFrame(np.random.randn(6,4))\n",
    "df1"
   ]
  },
  {
   "cell_type": "code",
   "execution_count": 6,
   "metadata": {},
   "outputs": [
    {
     "data": {
      "text/html": [
       "<div>\n",
       "<style scoped>\n",
       "    .dataframe tbody tr th:only-of-type {\n",
       "        vertical-align: middle;\n",
       "    }\n",
       "\n",
       "    .dataframe tbody tr th {\n",
       "        vertical-align: top;\n",
       "    }\n",
       "\n",
       "    .dataframe thead th {\n",
       "        text-align: right;\n",
       "    }\n",
       "</style>\n",
       "<table border=\"1\" class=\"dataframe\">\n",
       "  <thead>\n",
       "    <tr style=\"text-align: right;\">\n",
       "      <th></th>\n",
       "      <th>B</th>\n",
       "      <th>A</th>\n",
       "      <th>D</th>\n",
       "      <th>C</th>\n",
       "    </tr>\n",
       "  </thead>\n",
       "  <tbody>\n",
       "    <tr>\n",
       "      <th>2019-01-22</th>\n",
       "      <td>-1.331896</td>\n",
       "      <td>-1.631497</td>\n",
       "      <td>0.123840</td>\n",
       "      <td>0.798577</td>\n",
       "    </tr>\n",
       "    <tr>\n",
       "      <th>2019-01-23</th>\n",
       "      <td>-0.333579</td>\n",
       "      <td>-1.413326</td>\n",
       "      <td>2.572754</td>\n",
       "      <td>0.344648</td>\n",
       "    </tr>\n",
       "    <tr>\n",
       "      <th>2019-01-24</th>\n",
       "      <td>1.309976</td>\n",
       "      <td>2.331791</td>\n",
       "      <td>-0.368692</td>\n",
       "      <td>0.950627</td>\n",
       "    </tr>\n",
       "    <tr>\n",
       "      <th>2019-01-25</th>\n",
       "      <td>1.275169</td>\n",
       "      <td>-0.087792</td>\n",
       "      <td>0.809987</td>\n",
       "      <td>-0.087855</td>\n",
       "    </tr>\n",
       "    <tr>\n",
       "      <th>2019-01-26</th>\n",
       "      <td>-0.617478</td>\n",
       "      <td>1.710219</td>\n",
       "      <td>-0.659773</td>\n",
       "      <td>-0.429050</td>\n",
       "    </tr>\n",
       "    <tr>\n",
       "      <th>2019-01-27</th>\n",
       "      <td>-1.584088</td>\n",
       "      <td>1.299255</td>\n",
       "      <td>0.565431</td>\n",
       "      <td>-0.558894</td>\n",
       "    </tr>\n",
       "  </tbody>\n",
       "</table>\n",
       "</div>"
      ],
      "text/plain": [
       "                   B         A         D         C\n",
       "2019-01-22 -1.331896 -1.631497  0.123840  0.798577\n",
       "2019-01-23 -0.333579 -1.413326  2.572754  0.344648\n",
       "2019-01-24  1.309976  2.331791 -0.368692  0.950627\n",
       "2019-01-25  1.275169 -0.087792  0.809987 -0.087855\n",
       "2019-01-26 -0.617478  1.710219 -0.659773 -0.429050\n",
       "2019-01-27 -1.584088  1.299255  0.565431 -0.558894"
      ]
     },
     "execution_count": 6,
     "metadata": {},
     "output_type": "execute_result"
    }
   ],
   "source": [
    "df1.columns = ['B','A','D','C']\n",
    "df1.index = pd.date_range('20190122', periods=6)\n",
    "df1"
   ]
  },
  {
   "cell_type": "code",
   "execution_count": 7,
   "metadata": {},
   "outputs": [
    {
     "data": {
      "text/plain": [
       "DatetimeIndex(['2019-01-22', '2019-01-23', '2019-01-24', '2019-01-25',\n",
       "               '2019-01-26', '2019-01-27'],\n",
       "              dtype='datetime64[ns]', freq='D')"
      ]
     },
     "execution_count": 7,
     "metadata": {},
     "output_type": "execute_result"
    }
   ],
   "source": [
    "# 행 위치 조정하기 \n",
    "df1.index "
   ]
  },
  {
   "cell_type": "code",
   "execution_count": 8,
   "metadata": {},
   "outputs": [
    {
     "data": {
      "text/html": [
       "<div>\n",
       "<style scoped>\n",
       "    .dataframe tbody tr th:only-of-type {\n",
       "        vertical-align: middle;\n",
       "    }\n",
       "\n",
       "    .dataframe tbody tr th {\n",
       "        vertical-align: top;\n",
       "    }\n",
       "\n",
       "    .dataframe thead th {\n",
       "        text-align: right;\n",
       "    }\n",
       "</style>\n",
       "<table border=\"1\" class=\"dataframe\">\n",
       "  <thead>\n",
       "    <tr style=\"text-align: right;\">\n",
       "      <th></th>\n",
       "      <th>B</th>\n",
       "      <th>A</th>\n",
       "      <th>D</th>\n",
       "      <th>C</th>\n",
       "    </tr>\n",
       "  </thead>\n",
       "  <tbody>\n",
       "    <tr>\n",
       "      <th>2019-01-27</th>\n",
       "      <td>-1.331896</td>\n",
       "      <td>-1.631497</td>\n",
       "      <td>0.123840</td>\n",
       "      <td>0.798577</td>\n",
       "    </tr>\n",
       "    <tr>\n",
       "      <th>2019-01-25</th>\n",
       "      <td>-0.333579</td>\n",
       "      <td>-1.413326</td>\n",
       "      <td>2.572754</td>\n",
       "      <td>0.344648</td>\n",
       "    </tr>\n",
       "    <tr>\n",
       "      <th>2019-01-23</th>\n",
       "      <td>1.309976</td>\n",
       "      <td>2.331791</td>\n",
       "      <td>-0.368692</td>\n",
       "      <td>0.950627</td>\n",
       "    </tr>\n",
       "    <tr>\n",
       "      <th>2019-01-22</th>\n",
       "      <td>1.275169</td>\n",
       "      <td>-0.087792</td>\n",
       "      <td>0.809987</td>\n",
       "      <td>-0.087855</td>\n",
       "    </tr>\n",
       "    <tr>\n",
       "      <th>2019-01-24</th>\n",
       "      <td>-0.617478</td>\n",
       "      <td>1.710219</td>\n",
       "      <td>-0.659773</td>\n",
       "      <td>-0.429050</td>\n",
       "    </tr>\n",
       "    <tr>\n",
       "      <th>2019-01-26</th>\n",
       "      <td>-1.584088</td>\n",
       "      <td>1.299255</td>\n",
       "      <td>0.565431</td>\n",
       "      <td>-0.558894</td>\n",
       "    </tr>\n",
       "  </tbody>\n",
       "</table>\n",
       "</div>"
      ],
      "text/plain": [
       "                   B         A         D         C\n",
       "2019-01-27 -1.331896 -1.631497  0.123840  0.798577\n",
       "2019-01-25 -0.333579 -1.413326  2.572754  0.344648\n",
       "2019-01-23  1.309976  2.331791 -0.368692  0.950627\n",
       "2019-01-22  1.275169 -0.087792  0.809987 -0.087855\n",
       "2019-01-24 -0.617478  1.710219 -0.659773 -0.429050\n",
       "2019-01-26 -1.584088  1.299255  0.565431 -0.558894"
      ]
     },
     "execution_count": 8,
     "metadata": {},
     "output_type": "execute_result"
    }
   ],
   "source": [
    "df1.index = ['2019-01-27','2019-01-25', '2019-01-23', \n",
    "             '2019-01-22','2019-01-24', '2019-01-26' ]\n",
    "df1"
   ]
  },
  {
   "cell_type": "code",
   "execution_count": 9,
   "metadata": {},
   "outputs": [
    {
     "data": {
      "text/html": [
       "<div>\n",
       "<style scoped>\n",
       "    .dataframe tbody tr th:only-of-type {\n",
       "        vertical-align: middle;\n",
       "    }\n",
       "\n",
       "    .dataframe tbody tr th {\n",
       "        vertical-align: top;\n",
       "    }\n",
       "\n",
       "    .dataframe thead th {\n",
       "        text-align: right;\n",
       "    }\n",
       "</style>\n",
       "<table border=\"1\" class=\"dataframe\">\n",
       "  <thead>\n",
       "    <tr style=\"text-align: right;\">\n",
       "      <th></th>\n",
       "      <th>B</th>\n",
       "      <th>A</th>\n",
       "      <th>D</th>\n",
       "      <th>C</th>\n",
       "    </tr>\n",
       "  </thead>\n",
       "  <tbody>\n",
       "    <tr>\n",
       "      <th>2019-01-22</th>\n",
       "      <td>1.275169</td>\n",
       "      <td>-0.087792</td>\n",
       "      <td>0.809987</td>\n",
       "      <td>-0.087855</td>\n",
       "    </tr>\n",
       "    <tr>\n",
       "      <th>2019-01-23</th>\n",
       "      <td>1.309976</td>\n",
       "      <td>2.331791</td>\n",
       "      <td>-0.368692</td>\n",
       "      <td>0.950627</td>\n",
       "    </tr>\n",
       "    <tr>\n",
       "      <th>2019-01-24</th>\n",
       "      <td>-0.617478</td>\n",
       "      <td>1.710219</td>\n",
       "      <td>-0.659773</td>\n",
       "      <td>-0.429050</td>\n",
       "    </tr>\n",
       "    <tr>\n",
       "      <th>2019-01-25</th>\n",
       "      <td>-0.333579</td>\n",
       "      <td>-1.413326</td>\n",
       "      <td>2.572754</td>\n",
       "      <td>0.344648</td>\n",
       "    </tr>\n",
       "    <tr>\n",
       "      <th>2019-01-26</th>\n",
       "      <td>-1.584088</td>\n",
       "      <td>1.299255</td>\n",
       "      <td>0.565431</td>\n",
       "      <td>-0.558894</td>\n",
       "    </tr>\n",
       "    <tr>\n",
       "      <th>2019-01-27</th>\n",
       "      <td>-1.331896</td>\n",
       "      <td>-1.631497</td>\n",
       "      <td>0.123840</td>\n",
       "      <td>0.798577</td>\n",
       "    </tr>\n",
       "  </tbody>\n",
       "</table>\n",
       "</div>"
      ],
      "text/plain": [
       "                   B         A         D         C\n",
       "2019-01-22  1.275169 -0.087792  0.809987 -0.087855\n",
       "2019-01-23  1.309976  2.331791 -0.368692  0.950627\n",
       "2019-01-24 -0.617478  1.710219 -0.659773 -0.429050\n",
       "2019-01-25 -0.333579 -1.413326  2.572754  0.344648\n",
       "2019-01-26 -1.584088  1.299255  0.565431 -0.558894\n",
       "2019-01-27 -1.331896 -1.631497  0.123840  0.798577"
      ]
     },
     "execution_count": 9,
     "metadata": {},
     "output_type": "execute_result"
    }
   ],
   "source": [
    "# 정렬 - 행의 인덱스 기준 , 오름차순\n",
    "df1.sort_index(axis=0)"
   ]
  },
  {
   "cell_type": "code",
   "execution_count": 10,
   "metadata": {},
   "outputs": [
    {
     "data": {
      "text/html": [
       "<div>\n",
       "<style scoped>\n",
       "    .dataframe tbody tr th:only-of-type {\n",
       "        vertical-align: middle;\n",
       "    }\n",
       "\n",
       "    .dataframe tbody tr th {\n",
       "        vertical-align: top;\n",
       "    }\n",
       "\n",
       "    .dataframe thead th {\n",
       "        text-align: right;\n",
       "    }\n",
       "</style>\n",
       "<table border=\"1\" class=\"dataframe\">\n",
       "  <thead>\n",
       "    <tr style=\"text-align: right;\">\n",
       "      <th></th>\n",
       "      <th>B</th>\n",
       "      <th>A</th>\n",
       "      <th>D</th>\n",
       "      <th>C</th>\n",
       "    </tr>\n",
       "  </thead>\n",
       "  <tbody>\n",
       "    <tr>\n",
       "      <th>2019-01-27</th>\n",
       "      <td>-1.331896</td>\n",
       "      <td>-1.631497</td>\n",
       "      <td>0.123840</td>\n",
       "      <td>0.798577</td>\n",
       "    </tr>\n",
       "    <tr>\n",
       "      <th>2019-01-26</th>\n",
       "      <td>-1.584088</td>\n",
       "      <td>1.299255</td>\n",
       "      <td>0.565431</td>\n",
       "      <td>-0.558894</td>\n",
       "    </tr>\n",
       "    <tr>\n",
       "      <th>2019-01-25</th>\n",
       "      <td>-0.333579</td>\n",
       "      <td>-1.413326</td>\n",
       "      <td>2.572754</td>\n",
       "      <td>0.344648</td>\n",
       "    </tr>\n",
       "    <tr>\n",
       "      <th>2019-01-24</th>\n",
       "      <td>-0.617478</td>\n",
       "      <td>1.710219</td>\n",
       "      <td>-0.659773</td>\n",
       "      <td>-0.429050</td>\n",
       "    </tr>\n",
       "    <tr>\n",
       "      <th>2019-01-23</th>\n",
       "      <td>1.309976</td>\n",
       "      <td>2.331791</td>\n",
       "      <td>-0.368692</td>\n",
       "      <td>0.950627</td>\n",
       "    </tr>\n",
       "    <tr>\n",
       "      <th>2019-01-22</th>\n",
       "      <td>1.275169</td>\n",
       "      <td>-0.087792</td>\n",
       "      <td>0.809987</td>\n",
       "      <td>-0.087855</td>\n",
       "    </tr>\n",
       "  </tbody>\n",
       "</table>\n",
       "</div>"
      ],
      "text/plain": [
       "                   B         A         D         C\n",
       "2019-01-27 -1.331896 -1.631497  0.123840  0.798577\n",
       "2019-01-26 -1.584088  1.299255  0.565431 -0.558894\n",
       "2019-01-25 -0.333579 -1.413326  2.572754  0.344648\n",
       "2019-01-24 -0.617478  1.710219 -0.659773 -0.429050\n",
       "2019-01-23  1.309976  2.331791 -0.368692  0.950627\n",
       "2019-01-22  1.275169 -0.087792  0.809987 -0.087855"
      ]
     },
     "execution_count": 10,
     "metadata": {},
     "output_type": "execute_result"
    }
   ],
   "source": [
    "# 정렬 - 행의 인덱스 기준 , 내림차순\n",
    "df1.sort_index(axis=0, ascending=False)"
   ]
  },
  {
   "cell_type": "code",
   "execution_count": 11,
   "metadata": {},
   "outputs": [
    {
     "data": {
      "text/html": [
       "<div>\n",
       "<style scoped>\n",
       "    .dataframe tbody tr th:only-of-type {\n",
       "        vertical-align: middle;\n",
       "    }\n",
       "\n",
       "    .dataframe tbody tr th {\n",
       "        vertical-align: top;\n",
       "    }\n",
       "\n",
       "    .dataframe thead th {\n",
       "        text-align: right;\n",
       "    }\n",
       "</style>\n",
       "<table border=\"1\" class=\"dataframe\">\n",
       "  <thead>\n",
       "    <tr style=\"text-align: right;\">\n",
       "      <th></th>\n",
       "      <th>D</th>\n",
       "      <th>C</th>\n",
       "      <th>B</th>\n",
       "      <th>A</th>\n",
       "    </tr>\n",
       "  </thead>\n",
       "  <tbody>\n",
       "    <tr>\n",
       "      <th>2019-01-27</th>\n",
       "      <td>0.123840</td>\n",
       "      <td>0.798577</td>\n",
       "      <td>-1.331896</td>\n",
       "      <td>-1.631497</td>\n",
       "    </tr>\n",
       "    <tr>\n",
       "      <th>2019-01-25</th>\n",
       "      <td>2.572754</td>\n",
       "      <td>0.344648</td>\n",
       "      <td>-0.333579</td>\n",
       "      <td>-1.413326</td>\n",
       "    </tr>\n",
       "    <tr>\n",
       "      <th>2019-01-23</th>\n",
       "      <td>-0.368692</td>\n",
       "      <td>0.950627</td>\n",
       "      <td>1.309976</td>\n",
       "      <td>2.331791</td>\n",
       "    </tr>\n",
       "    <tr>\n",
       "      <th>2019-01-22</th>\n",
       "      <td>0.809987</td>\n",
       "      <td>-0.087855</td>\n",
       "      <td>1.275169</td>\n",
       "      <td>-0.087792</td>\n",
       "    </tr>\n",
       "    <tr>\n",
       "      <th>2019-01-24</th>\n",
       "      <td>-0.659773</td>\n",
       "      <td>-0.429050</td>\n",
       "      <td>-0.617478</td>\n",
       "      <td>1.710219</td>\n",
       "    </tr>\n",
       "    <tr>\n",
       "      <th>2019-01-26</th>\n",
       "      <td>0.565431</td>\n",
       "      <td>-0.558894</td>\n",
       "      <td>-1.584088</td>\n",
       "      <td>1.299255</td>\n",
       "    </tr>\n",
       "  </tbody>\n",
       "</table>\n",
       "</div>"
      ],
      "text/plain": [
       "                   D         C         B         A\n",
       "2019-01-27  0.123840  0.798577 -1.331896 -1.631497\n",
       "2019-01-25  2.572754  0.344648 -0.333579 -1.413326\n",
       "2019-01-23 -0.368692  0.950627  1.309976  2.331791\n",
       "2019-01-22  0.809987 -0.087855  1.275169 -0.087792\n",
       "2019-01-24 -0.659773 -0.429050 -0.617478  1.710219\n",
       "2019-01-26  0.565431 -0.558894 -1.584088  1.299255"
      ]
     },
     "execution_count": 11,
     "metadata": {},
     "output_type": "execute_result"
    }
   ],
   "source": [
    "# 정렬 - 열의 인덱스 기준 , 내림차순\n",
    "df1.sort_index(axis=1, ascending=False)"
   ]
  },
  {
   "cell_type": "code",
   "execution_count": 12,
   "metadata": {},
   "outputs": [
    {
     "data": {
      "text/html": [
       "<div>\n",
       "<style scoped>\n",
       "    .dataframe tbody tr th:only-of-type {\n",
       "        vertical-align: middle;\n",
       "    }\n",
       "\n",
       "    .dataframe tbody tr th {\n",
       "        vertical-align: top;\n",
       "    }\n",
       "\n",
       "    .dataframe thead th {\n",
       "        text-align: right;\n",
       "    }\n",
       "</style>\n",
       "<table border=\"1\" class=\"dataframe\">\n",
       "  <thead>\n",
       "    <tr style=\"text-align: right;\">\n",
       "      <th></th>\n",
       "      <th>A</th>\n",
       "      <th>B</th>\n",
       "      <th>C</th>\n",
       "      <th>D</th>\n",
       "    </tr>\n",
       "  </thead>\n",
       "  <tbody>\n",
       "    <tr>\n",
       "      <th>2019-01-27</th>\n",
       "      <td>-1.631497</td>\n",
       "      <td>-1.331896</td>\n",
       "      <td>0.798577</td>\n",
       "      <td>0.123840</td>\n",
       "    </tr>\n",
       "    <tr>\n",
       "      <th>2019-01-25</th>\n",
       "      <td>-1.413326</td>\n",
       "      <td>-0.333579</td>\n",
       "      <td>0.344648</td>\n",
       "      <td>2.572754</td>\n",
       "    </tr>\n",
       "    <tr>\n",
       "      <th>2019-01-23</th>\n",
       "      <td>2.331791</td>\n",
       "      <td>1.309976</td>\n",
       "      <td>0.950627</td>\n",
       "      <td>-0.368692</td>\n",
       "    </tr>\n",
       "    <tr>\n",
       "      <th>2019-01-22</th>\n",
       "      <td>-0.087792</td>\n",
       "      <td>1.275169</td>\n",
       "      <td>-0.087855</td>\n",
       "      <td>0.809987</td>\n",
       "    </tr>\n",
       "    <tr>\n",
       "      <th>2019-01-24</th>\n",
       "      <td>1.710219</td>\n",
       "      <td>-0.617478</td>\n",
       "      <td>-0.429050</td>\n",
       "      <td>-0.659773</td>\n",
       "    </tr>\n",
       "    <tr>\n",
       "      <th>2019-01-26</th>\n",
       "      <td>1.299255</td>\n",
       "      <td>-1.584088</td>\n",
       "      <td>-0.558894</td>\n",
       "      <td>0.565431</td>\n",
       "    </tr>\n",
       "  </tbody>\n",
       "</table>\n",
       "</div>"
      ],
      "text/plain": [
       "                   A         B         C         D\n",
       "2019-01-27 -1.631497 -1.331896  0.798577  0.123840\n",
       "2019-01-25 -1.413326 -0.333579  0.344648  2.572754\n",
       "2019-01-23  2.331791  1.309976  0.950627 -0.368692\n",
       "2019-01-22 -0.087792  1.275169 -0.087855  0.809987\n",
       "2019-01-24  1.710219 -0.617478 -0.429050 -0.659773\n",
       "2019-01-26  1.299255 -1.584088 -0.558894  0.565431"
      ]
     },
     "execution_count": 12,
     "metadata": {},
     "output_type": "execute_result"
    }
   ],
   "source": [
    "# 정렬 - 열의 인덱스 기준 , 오름차순\n",
    "df1.sort_index(axis=1)"
   ]
  },
  {
   "cell_type": "markdown",
   "metadata": {},
   "source": [
    "## 값 기준으로 정렬하기\n",
    "\n",
    "- 데이타프레임이름. sort_values(by=\"컬럼명\")"
   ]
  },
  {
   "cell_type": "code",
   "execution_count": 13,
   "metadata": {},
   "outputs": [
    {
     "data": {
      "text/html": [
       "<div>\n",
       "<style scoped>\n",
       "    .dataframe tbody tr th:only-of-type {\n",
       "        vertical-align: middle;\n",
       "    }\n",
       "\n",
       "    .dataframe tbody tr th {\n",
       "        vertical-align: top;\n",
       "    }\n",
       "\n",
       "    .dataframe thead th {\n",
       "        text-align: right;\n",
       "    }\n",
       "</style>\n",
       "<table border=\"1\" class=\"dataframe\">\n",
       "  <thead>\n",
       "    <tr style=\"text-align: right;\">\n",
       "      <th></th>\n",
       "      <th>B</th>\n",
       "      <th>A</th>\n",
       "      <th>D</th>\n",
       "      <th>C</th>\n",
       "    </tr>\n",
       "  </thead>\n",
       "  <tbody>\n",
       "    <tr>\n",
       "      <th>2019-01-27</th>\n",
       "      <td>-1.331896</td>\n",
       "      <td>-1.631497</td>\n",
       "      <td>0.123840</td>\n",
       "      <td>0.798577</td>\n",
       "    </tr>\n",
       "    <tr>\n",
       "      <th>2019-01-25</th>\n",
       "      <td>-0.333579</td>\n",
       "      <td>-1.413326</td>\n",
       "      <td>2.572754</td>\n",
       "      <td>0.344648</td>\n",
       "    </tr>\n",
       "    <tr>\n",
       "      <th>2019-01-23</th>\n",
       "      <td>1.309976</td>\n",
       "      <td>2.331791</td>\n",
       "      <td>-0.368692</td>\n",
       "      <td>0.950627</td>\n",
       "    </tr>\n",
       "    <tr>\n",
       "      <th>2019-01-22</th>\n",
       "      <td>1.275169</td>\n",
       "      <td>-0.087792</td>\n",
       "      <td>0.809987</td>\n",
       "      <td>-0.087855</td>\n",
       "    </tr>\n",
       "    <tr>\n",
       "      <th>2019-01-24</th>\n",
       "      <td>-0.617478</td>\n",
       "      <td>1.710219</td>\n",
       "      <td>-0.659773</td>\n",
       "      <td>-0.429050</td>\n",
       "    </tr>\n",
       "    <tr>\n",
       "      <th>2019-01-26</th>\n",
       "      <td>-1.584088</td>\n",
       "      <td>1.299255</td>\n",
       "      <td>0.565431</td>\n",
       "      <td>-0.558894</td>\n",
       "    </tr>\n",
       "  </tbody>\n",
       "</table>\n",
       "</div>"
      ],
      "text/plain": [
       "                   B         A         D         C\n",
       "2019-01-27 -1.331896 -1.631497  0.123840  0.798577\n",
       "2019-01-25 -0.333579 -1.413326  2.572754  0.344648\n",
       "2019-01-23  1.309976  2.331791 -0.368692  0.950627\n",
       "2019-01-22  1.275169 -0.087792  0.809987 -0.087855\n",
       "2019-01-24 -0.617478  1.710219 -0.659773 -0.429050\n",
       "2019-01-26 -1.584088  1.299255  0.565431 -0.558894"
      ]
     },
     "execution_count": 13,
     "metadata": {},
     "output_type": "execute_result"
    }
   ],
   "source": [
    "df1"
   ]
  },
  {
   "cell_type": "code",
   "execution_count": 14,
   "metadata": {},
   "outputs": [
    {
     "data": {
      "text/html": [
       "<div>\n",
       "<style scoped>\n",
       "    .dataframe tbody tr th:only-of-type {\n",
       "        vertical-align: middle;\n",
       "    }\n",
       "\n",
       "    .dataframe tbody tr th {\n",
       "        vertical-align: top;\n",
       "    }\n",
       "\n",
       "    .dataframe thead th {\n",
       "        text-align: right;\n",
       "    }\n",
       "</style>\n",
       "<table border=\"1\" class=\"dataframe\">\n",
       "  <thead>\n",
       "    <tr style=\"text-align: right;\">\n",
       "      <th></th>\n",
       "      <th>B</th>\n",
       "      <th>A</th>\n",
       "      <th>D</th>\n",
       "      <th>C</th>\n",
       "    </tr>\n",
       "  </thead>\n",
       "  <tbody>\n",
       "    <tr>\n",
       "      <th>2019-01-26</th>\n",
       "      <td>-1.584088</td>\n",
       "      <td>1.299255</td>\n",
       "      <td>0.565431</td>\n",
       "      <td>-0.558894</td>\n",
       "    </tr>\n",
       "    <tr>\n",
       "      <th>2019-01-27</th>\n",
       "      <td>-1.331896</td>\n",
       "      <td>-1.631497</td>\n",
       "      <td>0.123840</td>\n",
       "      <td>0.798577</td>\n",
       "    </tr>\n",
       "    <tr>\n",
       "      <th>2019-01-24</th>\n",
       "      <td>-0.617478</td>\n",
       "      <td>1.710219</td>\n",
       "      <td>-0.659773</td>\n",
       "      <td>-0.429050</td>\n",
       "    </tr>\n",
       "    <tr>\n",
       "      <th>2019-01-25</th>\n",
       "      <td>-0.333579</td>\n",
       "      <td>-1.413326</td>\n",
       "      <td>2.572754</td>\n",
       "      <td>0.344648</td>\n",
       "    </tr>\n",
       "    <tr>\n",
       "      <th>2019-01-22</th>\n",
       "      <td>1.275169</td>\n",
       "      <td>-0.087792</td>\n",
       "      <td>0.809987</td>\n",
       "      <td>-0.087855</td>\n",
       "    </tr>\n",
       "    <tr>\n",
       "      <th>2019-01-23</th>\n",
       "      <td>1.309976</td>\n",
       "      <td>2.331791</td>\n",
       "      <td>-0.368692</td>\n",
       "      <td>0.950627</td>\n",
       "    </tr>\n",
       "  </tbody>\n",
       "</table>\n",
       "</div>"
      ],
      "text/plain": [
       "                   B         A         D         C\n",
       "2019-01-26 -1.584088  1.299255  0.565431 -0.558894\n",
       "2019-01-27 -1.331896 -1.631497  0.123840  0.798577\n",
       "2019-01-24 -0.617478  1.710219 -0.659773 -0.429050\n",
       "2019-01-25 -0.333579 -1.413326  2.572754  0.344648\n",
       "2019-01-22  1.275169 -0.087792  0.809987 -0.087855\n",
       "2019-01-23  1.309976  2.331791 -0.368692  0.950627"
      ]
     },
     "execution_count": 14,
     "metadata": {},
     "output_type": "execute_result"
    }
   ],
   "source": [
    "result = df1.sort_values(by='B')\n",
    "result "
   ]
  },
  {
   "cell_type": "code",
   "execution_count": 15,
   "metadata": {},
   "outputs": [
    {
     "data": {
      "text/plain": [
       "2019-01-26   -1.584088\n",
       "2019-01-27   -1.331896\n",
       "2019-01-24   -0.617478\n",
       "2019-01-25   -0.333579\n",
       "2019-01-22    1.275169\n",
       "2019-01-23    1.309976\n",
       "Name: B, dtype: float64"
      ]
     },
     "execution_count": 15,
     "metadata": {},
     "output_type": "execute_result"
    }
   ],
   "source": [
    "# Series 로 추출 \n",
    "result.B"
   ]
  },
  {
   "cell_type": "markdown",
   "metadata": {},
   "source": [
    "## 중복 제거하기\n",
    "\n",
    "- 데이타이름[열이름].unique()"
   ]
  },
  {
   "cell_type": "code",
   "execution_count": 16,
   "metadata": {},
   "outputs": [
    {
     "data": {
      "text/html": [
       "<div>\n",
       "<style scoped>\n",
       "    .dataframe tbody tr th:only-of-type {\n",
       "        vertical-align: middle;\n",
       "    }\n",
       "\n",
       "    .dataframe tbody tr th {\n",
       "        vertical-align: top;\n",
       "    }\n",
       "\n",
       "    .dataframe thead th {\n",
       "        text-align: right;\n",
       "    }\n",
       "</style>\n",
       "<table border=\"1\" class=\"dataframe\">\n",
       "  <thead>\n",
       "    <tr style=\"text-align: right;\">\n",
       "      <th></th>\n",
       "      <th>B</th>\n",
       "      <th>A</th>\n",
       "      <th>D</th>\n",
       "      <th>C</th>\n",
       "    </tr>\n",
       "  </thead>\n",
       "  <tbody>\n",
       "    <tr>\n",
       "      <th>2019-01-27</th>\n",
       "      <td>-1.331896</td>\n",
       "      <td>-1.631497</td>\n",
       "      <td>0.123840</td>\n",
       "      <td>0.798577</td>\n",
       "    </tr>\n",
       "    <tr>\n",
       "      <th>2019-01-25</th>\n",
       "      <td>-0.333579</td>\n",
       "      <td>-1.413326</td>\n",
       "      <td>2.572754</td>\n",
       "      <td>0.344648</td>\n",
       "    </tr>\n",
       "    <tr>\n",
       "      <th>2019-01-23</th>\n",
       "      <td>1.309976</td>\n",
       "      <td>2.331791</td>\n",
       "      <td>-0.368692</td>\n",
       "      <td>0.950627</td>\n",
       "    </tr>\n",
       "    <tr>\n",
       "      <th>2019-01-22</th>\n",
       "      <td>1.275169</td>\n",
       "      <td>-0.087792</td>\n",
       "      <td>0.809987</td>\n",
       "      <td>-0.087855</td>\n",
       "    </tr>\n",
       "    <tr>\n",
       "      <th>2019-01-24</th>\n",
       "      <td>-0.617478</td>\n",
       "      <td>1.710219</td>\n",
       "      <td>-0.659773</td>\n",
       "      <td>-0.429050</td>\n",
       "    </tr>\n",
       "    <tr>\n",
       "      <th>2019-01-26</th>\n",
       "      <td>-1.584088</td>\n",
       "      <td>1.299255</td>\n",
       "      <td>0.565431</td>\n",
       "      <td>-0.558894</td>\n",
       "    </tr>\n",
       "  </tbody>\n",
       "</table>\n",
       "</div>"
      ],
      "text/plain": [
       "                   B         A         D         C\n",
       "2019-01-27 -1.331896 -1.631497  0.123840  0.798577\n",
       "2019-01-25 -0.333579 -1.413326  2.572754  0.344648\n",
       "2019-01-23  1.309976  2.331791 -0.368692  0.950627\n",
       "2019-01-22  1.275169 -0.087792  0.809987 -0.087855\n",
       "2019-01-24 -0.617478  1.710219 -0.659773 -0.429050\n",
       "2019-01-26 -1.584088  1.299255  0.565431 -0.558894"
      ]
     },
     "execution_count": 16,
     "metadata": {},
     "output_type": "execute_result"
    }
   ],
   "source": [
    "df1"
   ]
  },
  {
   "cell_type": "code",
   "execution_count": 17,
   "metadata": {},
   "outputs": [
    {
     "data": {
      "text/html": [
       "<div>\n",
       "<style scoped>\n",
       "    .dataframe tbody tr th:only-of-type {\n",
       "        vertical-align: middle;\n",
       "    }\n",
       "\n",
       "    .dataframe tbody tr th {\n",
       "        vertical-align: top;\n",
       "    }\n",
       "\n",
       "    .dataframe thead th {\n",
       "        text-align: right;\n",
       "    }\n",
       "</style>\n",
       "<table border=\"1\" class=\"dataframe\">\n",
       "  <thead>\n",
       "    <tr style=\"text-align: right;\">\n",
       "      <th></th>\n",
       "      <th>B</th>\n",
       "      <th>A</th>\n",
       "      <th>D</th>\n",
       "      <th>C</th>\n",
       "      <th>E</th>\n",
       "      <th>F</th>\n",
       "    </tr>\n",
       "  </thead>\n",
       "  <tbody>\n",
       "    <tr>\n",
       "      <th>2019-01-27</th>\n",
       "      <td>-1.331896</td>\n",
       "      <td>-1.631497</td>\n",
       "      <td>0.123840</td>\n",
       "      <td>0.798577</td>\n",
       "      <td>1</td>\n",
       "      <td>alpha</td>\n",
       "    </tr>\n",
       "    <tr>\n",
       "      <th>2019-01-25</th>\n",
       "      <td>-0.333579</td>\n",
       "      <td>-1.413326</td>\n",
       "      <td>2.572754</td>\n",
       "      <td>0.344648</td>\n",
       "      <td>4</td>\n",
       "      <td>beta</td>\n",
       "    </tr>\n",
       "    <tr>\n",
       "      <th>2019-01-23</th>\n",
       "      <td>1.309976</td>\n",
       "      <td>2.331791</td>\n",
       "      <td>-0.368692</td>\n",
       "      <td>0.950627</td>\n",
       "      <td>5</td>\n",
       "      <td>gamma</td>\n",
       "    </tr>\n",
       "    <tr>\n",
       "      <th>2019-01-22</th>\n",
       "      <td>1.275169</td>\n",
       "      <td>-0.087792</td>\n",
       "      <td>0.809987</td>\n",
       "      <td>-0.087855</td>\n",
       "      <td>5</td>\n",
       "      <td>gamma</td>\n",
       "    </tr>\n",
       "    <tr>\n",
       "      <th>2019-01-24</th>\n",
       "      <td>-0.617478</td>\n",
       "      <td>1.710219</td>\n",
       "      <td>-0.659773</td>\n",
       "      <td>-0.429050</td>\n",
       "      <td>3</td>\n",
       "      <td>alpha</td>\n",
       "    </tr>\n",
       "    <tr>\n",
       "      <th>2019-01-26</th>\n",
       "      <td>-1.584088</td>\n",
       "      <td>1.299255</td>\n",
       "      <td>0.565431</td>\n",
       "      <td>-0.558894</td>\n",
       "      <td>4</td>\n",
       "      <td>gamma</td>\n",
       "    </tr>\n",
       "  </tbody>\n",
       "</table>\n",
       "</div>"
      ],
      "text/plain": [
       "                   B         A         D         C  E      F\n",
       "2019-01-27 -1.331896 -1.631497  0.123840  0.798577  1  alpha\n",
       "2019-01-25 -0.333579 -1.413326  2.572754  0.344648  4   beta\n",
       "2019-01-23  1.309976  2.331791 -0.368692  0.950627  5  gamma\n",
       "2019-01-22  1.275169 -0.087792  0.809987 -0.087855  5  gamma\n",
       "2019-01-24 -0.617478  1.710219 -0.659773 -0.429050  3  alpha\n",
       "2019-01-26 -1.584088  1.299255  0.565431 -0.558894  4  gamma"
      ]
     },
     "execution_count": 17,
     "metadata": {},
     "output_type": "execute_result"
    }
   ],
   "source": [
    "# 컬럼 추가 \n",
    "# 2개의 새로운 컬럼 추가 \n",
    "df1[\"E\"] = [1,4,5,5,3,4]\n",
    "df1[\"F\"] = [\"alpha\", \"beta\", \"gamma\", \"gamma\", \"alpha\", \"gamma\"]\n",
    "df1"
   ]
  },
  {
   "cell_type": "code",
   "execution_count": 18,
   "metadata": {},
   "outputs": [
    {
     "data": {
      "text/plain": [
       "array([1, 4, 5, 3])"
      ]
     },
     "execution_count": 18,
     "metadata": {},
     "output_type": "execute_result"
    }
   ],
   "source": [
    "df1['E'].unique()"
   ]
  },
  {
   "cell_type": "code",
   "execution_count": 19,
   "metadata": {},
   "outputs": [
    {
     "data": {
      "text/plain": [
       "array(['alpha', 'beta', 'gamma'], dtype=object)"
      ]
     },
     "execution_count": 19,
     "metadata": {},
     "output_type": "execute_result"
    }
   ],
   "source": [
    "df1['F'].unique()"
   ]
  },
  {
   "cell_type": "markdown",
   "metadata": {},
   "source": [
    "## 특정값의 카운트\n",
    "\n",
    "- 데이터프레임이름[열이름].value_counts()"
   ]
  },
  {
   "cell_type": "code",
   "execution_count": 20,
   "metadata": {},
   "outputs": [
    {
     "data": {
      "text/html": [
       "<div>\n",
       "<style scoped>\n",
       "    .dataframe tbody tr th:only-of-type {\n",
       "        vertical-align: middle;\n",
       "    }\n",
       "\n",
       "    .dataframe tbody tr th {\n",
       "        vertical-align: top;\n",
       "    }\n",
       "\n",
       "    .dataframe thead th {\n",
       "        text-align: right;\n",
       "    }\n",
       "</style>\n",
       "<table border=\"1\" class=\"dataframe\">\n",
       "  <thead>\n",
       "    <tr style=\"text-align: right;\">\n",
       "      <th></th>\n",
       "      <th>A</th>\n",
       "      <th>B</th>\n",
       "      <th>C</th>\n",
       "      <th>D</th>\n",
       "      <th>E</th>\n",
       "    </tr>\n",
       "  </thead>\n",
       "  <tbody>\n",
       "    <tr>\n",
       "      <th>2019-01-22</th>\n",
       "      <td>1.218638</td>\n",
       "      <td>0.532886</td>\n",
       "      <td>0.555088</td>\n",
       "      <td>-1.001532</td>\n",
       "      <td>alpha</td>\n",
       "    </tr>\n",
       "    <tr>\n",
       "      <th>2019-01-23</th>\n",
       "      <td>-0.513808</td>\n",
       "      <td>0.303441</td>\n",
       "      <td>-0.043189</td>\n",
       "      <td>-0.594883</td>\n",
       "      <td>beta</td>\n",
       "    </tr>\n",
       "    <tr>\n",
       "      <th>2019-01-24</th>\n",
       "      <td>1.416460</td>\n",
       "      <td>-0.590458</td>\n",
       "      <td>-1.218315</td>\n",
       "      <td>-0.780468</td>\n",
       "      <td>gamma</td>\n",
       "    </tr>\n",
       "    <tr>\n",
       "      <th>2019-01-25</th>\n",
       "      <td>-0.781545</td>\n",
       "      <td>1.377938</td>\n",
       "      <td>-0.949693</td>\n",
       "      <td>-1.107963</td>\n",
       "      <td>gamma</td>\n",
       "    </tr>\n",
       "    <tr>\n",
       "      <th>2019-01-26</th>\n",
       "      <td>0.026496</td>\n",
       "      <td>-0.522147</td>\n",
       "      <td>1.455436</td>\n",
       "      <td>-1.249483</td>\n",
       "      <td>alpha</td>\n",
       "    </tr>\n",
       "    <tr>\n",
       "      <th>2019-01-27</th>\n",
       "      <td>-1.830080</td>\n",
       "      <td>-0.543938</td>\n",
       "      <td>-0.902998</td>\n",
       "      <td>1.713342</td>\n",
       "      <td>gamma</td>\n",
       "    </tr>\n",
       "  </tbody>\n",
       "</table>\n",
       "</div>"
      ],
      "text/plain": [
       "                   A         B         C         D      E\n",
       "2019-01-22  1.218638  0.532886  0.555088 -1.001532  alpha\n",
       "2019-01-23 -0.513808  0.303441 -0.043189 -0.594883   beta\n",
       "2019-01-24  1.416460 -0.590458 -1.218315 -0.780468  gamma\n",
       "2019-01-25 -0.781545  1.377938 -0.949693 -1.107963  gamma\n",
       "2019-01-26  0.026496 -0.522147  1.455436 -1.249483  alpha\n",
       "2019-01-27 -1.830080 -0.543938 -0.902998  1.713342  gamma"
      ]
     },
     "execution_count": 20,
     "metadata": {},
     "output_type": "execute_result"
    }
   ],
   "source": [
    "df2 = pd.DataFrame(np.random.randn(6,4), \n",
    "                   columns = ['A','B','C','D'],\n",
    "                   index = pd.date_range('20190122', periods=6))\n",
    "df2[\"E\"] = [\"alpha\", \"beta\", \"gamma\", \"gamma\", \"alpha\", \"gamma\"]\n",
    "df2"
   ]
  },
  {
   "cell_type": "code",
   "execution_count": 21,
   "metadata": {},
   "outputs": [
    {
     "data": {
      "text/plain": [
       "gamma    3\n",
       "alpha    2\n",
       "beta     1\n",
       "Name: E, dtype: int64"
      ]
     },
     "execution_count": 21,
     "metadata": {},
     "output_type": "execute_result"
    }
   ],
   "source": [
    "df2['E'].value_counts()"
   ]
  },
  {
   "cell_type": "code",
   "execution_count": 22,
   "metadata": {},
   "outputs": [
    {
     "data": {
      "text/plain": [
       " 0.026496    1\n",
       " 1.218638    1\n",
       "-0.781545    1\n",
       " 1.416460    1\n",
       "-1.830080    1\n",
       "-0.513808    1\n",
       "Name: A, dtype: int64"
      ]
     },
     "execution_count": 22,
     "metadata": {},
     "output_type": "execute_result"
    }
   ],
   "source": [
    "df2['A'].value_counts()"
   ]
  },
  {
   "cell_type": "markdown",
   "metadata": {},
   "source": [
    "## isin() 함수 이용하기\n",
    "\n",
    "- 데이타프레임이름.isin([데이터값1, 데이터값2])\n",
    "- 데이타프레임이름[컬럼명].isin([데이터값1, 데이터값2])\n",
    "- 데이터값이 있는지 확인 , True, False"
   ]
  },
  {
   "cell_type": "code",
   "execution_count": 23,
   "metadata": {},
   "outputs": [
    {
     "data": {
      "text/html": [
       "<div>\n",
       "<style scoped>\n",
       "    .dataframe tbody tr th:only-of-type {\n",
       "        vertical-align: middle;\n",
       "    }\n",
       "\n",
       "    .dataframe tbody tr th {\n",
       "        vertical-align: top;\n",
       "    }\n",
       "\n",
       "    .dataframe thead th {\n",
       "        text-align: right;\n",
       "    }\n",
       "</style>\n",
       "<table border=\"1\" class=\"dataframe\">\n",
       "  <thead>\n",
       "    <tr style=\"text-align: right;\">\n",
       "      <th></th>\n",
       "      <th>A</th>\n",
       "      <th>B</th>\n",
       "      <th>C</th>\n",
       "      <th>D</th>\n",
       "      <th>E</th>\n",
       "    </tr>\n",
       "  </thead>\n",
       "  <tbody>\n",
       "    <tr>\n",
       "      <th>2019-01-22</th>\n",
       "      <td>1.218638</td>\n",
       "      <td>0.532886</td>\n",
       "      <td>0.555088</td>\n",
       "      <td>-1.001532</td>\n",
       "      <td>alpha</td>\n",
       "    </tr>\n",
       "    <tr>\n",
       "      <th>2019-01-23</th>\n",
       "      <td>-0.513808</td>\n",
       "      <td>0.303441</td>\n",
       "      <td>-0.043189</td>\n",
       "      <td>-0.594883</td>\n",
       "      <td>beta</td>\n",
       "    </tr>\n",
       "    <tr>\n",
       "      <th>2019-01-24</th>\n",
       "      <td>1.416460</td>\n",
       "      <td>-0.590458</td>\n",
       "      <td>-1.218315</td>\n",
       "      <td>-0.780468</td>\n",
       "      <td>gamma</td>\n",
       "    </tr>\n",
       "    <tr>\n",
       "      <th>2019-01-25</th>\n",
       "      <td>-0.781545</td>\n",
       "      <td>1.377938</td>\n",
       "      <td>-0.949693</td>\n",
       "      <td>-1.107963</td>\n",
       "      <td>gamma</td>\n",
       "    </tr>\n",
       "    <tr>\n",
       "      <th>2019-01-26</th>\n",
       "      <td>0.026496</td>\n",
       "      <td>-0.522147</td>\n",
       "      <td>1.455436</td>\n",
       "      <td>-1.249483</td>\n",
       "      <td>alpha</td>\n",
       "    </tr>\n",
       "    <tr>\n",
       "      <th>2019-01-27</th>\n",
       "      <td>-1.830080</td>\n",
       "      <td>-0.543938</td>\n",
       "      <td>-0.902998</td>\n",
       "      <td>1.713342</td>\n",
       "      <td>gamma</td>\n",
       "    </tr>\n",
       "  </tbody>\n",
       "</table>\n",
       "</div>"
      ],
      "text/plain": [
       "                   A         B         C         D      E\n",
       "2019-01-22  1.218638  0.532886  0.555088 -1.001532  alpha\n",
       "2019-01-23 -0.513808  0.303441 -0.043189 -0.594883   beta\n",
       "2019-01-24  1.416460 -0.590458 -1.218315 -0.780468  gamma\n",
       "2019-01-25 -0.781545  1.377938 -0.949693 -1.107963  gamma\n",
       "2019-01-26  0.026496 -0.522147  1.455436 -1.249483  alpha\n",
       "2019-01-27 -1.830080 -0.543938 -0.902998  1.713342  gamma"
      ]
     },
     "execution_count": 23,
     "metadata": {},
     "output_type": "execute_result"
    }
   ],
   "source": [
    "df2"
   ]
  },
  {
   "cell_type": "code",
   "execution_count": 24,
   "metadata": {},
   "outputs": [
    {
     "data": {
      "text/html": [
       "<div>\n",
       "<style scoped>\n",
       "    .dataframe tbody tr th:only-of-type {\n",
       "        vertical-align: middle;\n",
       "    }\n",
       "\n",
       "    .dataframe tbody tr th {\n",
       "        vertical-align: top;\n",
       "    }\n",
       "\n",
       "    .dataframe thead th {\n",
       "        text-align: right;\n",
       "    }\n",
       "</style>\n",
       "<table border=\"1\" class=\"dataframe\">\n",
       "  <thead>\n",
       "    <tr style=\"text-align: right;\">\n",
       "      <th></th>\n",
       "      <th>A</th>\n",
       "      <th>B</th>\n",
       "      <th>C</th>\n",
       "      <th>D</th>\n",
       "      <th>E</th>\n",
       "    </tr>\n",
       "  </thead>\n",
       "  <tbody>\n",
       "    <tr>\n",
       "      <th>2019-01-22</th>\n",
       "      <td>False</td>\n",
       "      <td>False</td>\n",
       "      <td>False</td>\n",
       "      <td>False</td>\n",
       "      <td>True</td>\n",
       "    </tr>\n",
       "    <tr>\n",
       "      <th>2019-01-23</th>\n",
       "      <td>False</td>\n",
       "      <td>False</td>\n",
       "      <td>False</td>\n",
       "      <td>False</td>\n",
       "      <td>False</td>\n",
       "    </tr>\n",
       "    <tr>\n",
       "      <th>2019-01-24</th>\n",
       "      <td>False</td>\n",
       "      <td>False</td>\n",
       "      <td>False</td>\n",
       "      <td>False</td>\n",
       "      <td>False</td>\n",
       "    </tr>\n",
       "    <tr>\n",
       "      <th>2019-01-25</th>\n",
       "      <td>False</td>\n",
       "      <td>False</td>\n",
       "      <td>False</td>\n",
       "      <td>False</td>\n",
       "      <td>False</td>\n",
       "    </tr>\n",
       "    <tr>\n",
       "      <th>2019-01-26</th>\n",
       "      <td>False</td>\n",
       "      <td>False</td>\n",
       "      <td>False</td>\n",
       "      <td>False</td>\n",
       "      <td>True</td>\n",
       "    </tr>\n",
       "    <tr>\n",
       "      <th>2019-01-27</th>\n",
       "      <td>False</td>\n",
       "      <td>False</td>\n",
       "      <td>False</td>\n",
       "      <td>False</td>\n",
       "      <td>False</td>\n",
       "    </tr>\n",
       "  </tbody>\n",
       "</table>\n",
       "</div>"
      ],
      "text/plain": [
       "                A      B      C      D      E\n",
       "2019-01-22  False  False  False  False   True\n",
       "2019-01-23  False  False  False  False  False\n",
       "2019-01-24  False  False  False  False  False\n",
       "2019-01-25  False  False  False  False  False\n",
       "2019-01-26  False  False  False  False   True\n",
       "2019-01-27  False  False  False  False  False"
      ]
     },
     "execution_count": 24,
     "metadata": {},
     "output_type": "execute_result"
    }
   ],
   "source": [
    "# 'alpha' 값이 있는 데이타 부분은 True 로 출력 \n",
    "df2.isin(['alpha'])"
   ]
  },
  {
   "cell_type": "code",
   "execution_count": 25,
   "metadata": {},
   "outputs": [
    {
     "data": {
      "text/plain": [
       "2019-01-22     True\n",
       "2019-01-23    False\n",
       "2019-01-24    False\n",
       "2019-01-25    False\n",
       "2019-01-26     True\n",
       "2019-01-27    False\n",
       "Freq: D, Name: E, dtype: bool"
      ]
     },
     "execution_count": 25,
     "metadata": {},
     "output_type": "execute_result"
    }
   ],
   "source": [
    "# 'alpha' 값이 있는 데이타 부분은 True 로 출력 -> Series\n",
    "df2['E'].isin(['alpha'])"
   ]
  },
  {
   "cell_type": "code",
   "execution_count": 26,
   "metadata": {},
   "outputs": [
    {
     "data": {
      "text/plain": [
       "2019-01-22     True\n",
       "2019-01-23    False\n",
       "2019-01-24     True\n",
       "2019-01-25     True\n",
       "2019-01-26     True\n",
       "2019-01-27     True\n",
       "Freq: D, Name: E, dtype: bool"
      ]
     },
     "execution_count": 26,
     "metadata": {},
     "output_type": "execute_result"
    }
   ],
   "source": [
    "# 'alpha' , 'gamma'값이 있는 데이타 부분은 True 로 출력 -> Series\n",
    "df2['E'].isin(['alpha','gamma'])"
   ]
  },
  {
   "cell_type": "code",
   "execution_count": 27,
   "metadata": {},
   "outputs": [
    {
     "data": {
      "text/html": [
       "<div>\n",
       "<style scoped>\n",
       "    .dataframe tbody tr th:only-of-type {\n",
       "        vertical-align: middle;\n",
       "    }\n",
       "\n",
       "    .dataframe tbody tr th {\n",
       "        vertical-align: top;\n",
       "    }\n",
       "\n",
       "    .dataframe thead th {\n",
       "        text-align: right;\n",
       "    }\n",
       "</style>\n",
       "<table border=\"1\" class=\"dataframe\">\n",
       "  <thead>\n",
       "    <tr style=\"text-align: right;\">\n",
       "      <th></th>\n",
       "      <th>A</th>\n",
       "      <th>B</th>\n",
       "      <th>C</th>\n",
       "      <th>D</th>\n",
       "      <th>E</th>\n",
       "    </tr>\n",
       "  </thead>\n",
       "  <tbody>\n",
       "    <tr>\n",
       "      <th>2019-01-22</th>\n",
       "      <td>1.218638</td>\n",
       "      <td>0.532886</td>\n",
       "      <td>0.555088</td>\n",
       "      <td>-1.001532</td>\n",
       "      <td>alpha</td>\n",
       "    </tr>\n",
       "    <tr>\n",
       "      <th>2019-01-26</th>\n",
       "      <td>0.026496</td>\n",
       "      <td>-0.522147</td>\n",
       "      <td>1.455436</td>\n",
       "      <td>-1.249483</td>\n",
       "      <td>alpha</td>\n",
       "    </tr>\n",
       "  </tbody>\n",
       "</table>\n",
       "</div>"
      ],
      "text/plain": [
       "                   A         B         C         D      E\n",
       "2019-01-22  1.218638  0.532886  0.555088 -1.001532  alpha\n",
       "2019-01-26  0.026496 -0.522147  1.455436 -1.249483  alpha"
      ]
     },
     "execution_count": 27,
     "metadata": {},
     "output_type": "execute_result"
    }
   ],
   "source": [
    "# 'alpha' 값이 있는 행 추출 \n",
    "df2[df2['E'].isin(['alpha'])]"
   ]
  },
  {
   "cell_type": "code",
   "execution_count": 28,
   "metadata": {},
   "outputs": [
    {
     "data": {
      "text/html": [
       "<div>\n",
       "<style scoped>\n",
       "    .dataframe tbody tr th:only-of-type {\n",
       "        vertical-align: middle;\n",
       "    }\n",
       "\n",
       "    .dataframe tbody tr th {\n",
       "        vertical-align: top;\n",
       "    }\n",
       "\n",
       "    .dataframe thead th {\n",
       "        text-align: right;\n",
       "    }\n",
       "</style>\n",
       "<table border=\"1\" class=\"dataframe\">\n",
       "  <thead>\n",
       "    <tr style=\"text-align: right;\">\n",
       "      <th></th>\n",
       "      <th>A</th>\n",
       "      <th>B</th>\n",
       "      <th>C</th>\n",
       "      <th>D</th>\n",
       "      <th>E</th>\n",
       "    </tr>\n",
       "  </thead>\n",
       "  <tbody>\n",
       "    <tr>\n",
       "      <th>2019-01-22</th>\n",
       "      <td>1.218638</td>\n",
       "      <td>0.532886</td>\n",
       "      <td>0.555088</td>\n",
       "      <td>-1.001532</td>\n",
       "      <td>alpha</td>\n",
       "    </tr>\n",
       "    <tr>\n",
       "      <th>2019-01-26</th>\n",
       "      <td>0.026496</td>\n",
       "      <td>-0.522147</td>\n",
       "      <td>1.455436</td>\n",
       "      <td>-1.249483</td>\n",
       "      <td>alpha</td>\n",
       "    </tr>\n",
       "  </tbody>\n",
       "</table>\n",
       "</div>"
      ],
      "text/plain": [
       "                   A         B         C         D      E\n",
       "2019-01-22  1.218638  0.532886  0.555088 -1.001532  alpha\n",
       "2019-01-26  0.026496 -0.522147  1.455436 -1.249483  alpha"
      ]
     },
     "execution_count": 28,
     "metadata": {},
     "output_type": "execute_result"
    }
   ],
   "source": [
    "# 'alpha' 값이 있는 행 추출 \n",
    "df2[df2['E'] == 'alpha']"
   ]
  },
  {
   "cell_type": "code",
   "execution_count": 29,
   "metadata": {},
   "outputs": [
    {
     "data": {
      "text/html": [
       "<div>\n",
       "<style scoped>\n",
       "    .dataframe tbody tr th:only-of-type {\n",
       "        vertical-align: middle;\n",
       "    }\n",
       "\n",
       "    .dataframe tbody tr th {\n",
       "        vertical-align: top;\n",
       "    }\n",
       "\n",
       "    .dataframe thead th {\n",
       "        text-align: right;\n",
       "    }\n",
       "</style>\n",
       "<table border=\"1\" class=\"dataframe\">\n",
       "  <thead>\n",
       "    <tr style=\"text-align: right;\">\n",
       "      <th></th>\n",
       "      <th>A</th>\n",
       "      <th>B</th>\n",
       "      <th>C</th>\n",
       "      <th>D</th>\n",
       "      <th>E</th>\n",
       "    </tr>\n",
       "  </thead>\n",
       "  <tbody>\n",
       "    <tr>\n",
       "      <th>2019-01-22</th>\n",
       "      <td>1.218638</td>\n",
       "      <td>0.532886</td>\n",
       "      <td>0.555088</td>\n",
       "      <td>-1.001532</td>\n",
       "      <td>alpha</td>\n",
       "    </tr>\n",
       "    <tr>\n",
       "      <th>2019-01-23</th>\n",
       "      <td>-0.513808</td>\n",
       "      <td>0.303441</td>\n",
       "      <td>-0.043189</td>\n",
       "      <td>-0.594883</td>\n",
       "      <td>beta</td>\n",
       "    </tr>\n",
       "    <tr>\n",
       "      <th>2019-01-26</th>\n",
       "      <td>0.026496</td>\n",
       "      <td>-0.522147</td>\n",
       "      <td>1.455436</td>\n",
       "      <td>-1.249483</td>\n",
       "      <td>alpha</td>\n",
       "    </tr>\n",
       "  </tbody>\n",
       "</table>\n",
       "</div>"
      ],
      "text/plain": [
       "                   A         B         C         D      E\n",
       "2019-01-22  1.218638  0.532886  0.555088 -1.001532  alpha\n",
       "2019-01-23 -0.513808  0.303441 -0.043189 -0.594883   beta\n",
       "2019-01-26  0.026496 -0.522147  1.455436 -1.249483  alpha"
      ]
     },
     "execution_count": 29,
     "metadata": {},
     "output_type": "execute_result"
    }
   ],
   "source": [
    "# 'alpha', 'beta' 값이 있는 행 추출 \n",
    "df2[df2['E'].isin(['alpha', 'beta'])]"
   ]
  },
  {
   "cell_type": "code",
   "execution_count": 30,
   "metadata": {},
   "outputs": [
    {
     "data": {
      "text/html": [
       "<div>\n",
       "<style scoped>\n",
       "    .dataframe tbody tr th:only-of-type {\n",
       "        vertical-align: middle;\n",
       "    }\n",
       "\n",
       "    .dataframe tbody tr th {\n",
       "        vertical-align: top;\n",
       "    }\n",
       "\n",
       "    .dataframe thead th {\n",
       "        text-align: right;\n",
       "    }\n",
       "</style>\n",
       "<table border=\"1\" class=\"dataframe\">\n",
       "  <thead>\n",
       "    <tr style=\"text-align: right;\">\n",
       "      <th></th>\n",
       "      <th>A</th>\n",
       "      <th>B</th>\n",
       "      <th>C</th>\n",
       "      <th>D</th>\n",
       "      <th>E</th>\n",
       "    </tr>\n",
       "  </thead>\n",
       "  <tbody>\n",
       "    <tr>\n",
       "      <th>2019-01-22</th>\n",
       "      <td>1.218638</td>\n",
       "      <td>0.532886</td>\n",
       "      <td>0.555088</td>\n",
       "      <td>-1.001532</td>\n",
       "      <td>alpha</td>\n",
       "    </tr>\n",
       "    <tr>\n",
       "      <th>2019-01-23</th>\n",
       "      <td>-0.513808</td>\n",
       "      <td>0.303441</td>\n",
       "      <td>-0.043189</td>\n",
       "      <td>-0.594883</td>\n",
       "      <td>beta</td>\n",
       "    </tr>\n",
       "    <tr>\n",
       "      <th>2019-01-26</th>\n",
       "      <td>0.026496</td>\n",
       "      <td>-0.522147</td>\n",
       "      <td>1.455436</td>\n",
       "      <td>-1.249483</td>\n",
       "      <td>alpha</td>\n",
       "    </tr>\n",
       "  </tbody>\n",
       "</table>\n",
       "</div>"
      ],
      "text/plain": [
       "                   A         B         C         D      E\n",
       "2019-01-22  1.218638  0.532886  0.555088 -1.001532  alpha\n",
       "2019-01-23 -0.513808  0.303441 -0.043189 -0.594883   beta\n",
       "2019-01-26  0.026496 -0.522147  1.455436 -1.249483  alpha"
      ]
     },
     "execution_count": 30,
     "metadata": {},
     "output_type": "execute_result"
    }
   ],
   "source": [
    "df2[(df2['E'] == 'alpha') | (df2['E'] == 'beta') ]"
   ]
  },
  {
   "cell_type": "code",
   "execution_count": null,
   "metadata": {},
   "outputs": [],
   "source": []
  }
 ],
 "metadata": {
  "kernelspec": {
   "display_name": "Python 3",
   "language": "python",
   "name": "python3"
  },
  "language_info": {
   "codemirror_mode": {
    "name": "ipython",
    "version": 3
   },
   "file_extension": ".py",
   "mimetype": "text/x-python",
   "name": "python",
   "nbconvert_exporter": "python",
   "pygments_lexer": "ipython3",
   "version": "3.7.3"
  }
 },
 "nbformat": 4,
 "nbformat_minor": 2
}

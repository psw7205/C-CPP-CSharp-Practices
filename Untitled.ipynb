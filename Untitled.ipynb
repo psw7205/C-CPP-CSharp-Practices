{
 "cells": [
  {
   "cell_type": "code",
   "execution_count": 1,
   "metadata": {},
   "outputs": [],
   "source": [
    "import numpy as np\n",
    "import pandas as pd\n",
    "import matplotlib as mpl\n",
    "import matplotlib.pyplot as plt\n",
    "import matplotlib.font_manager as fm\n",
    "\n",
    "mpl.rcParams['axes.unicode_minus'] = False\n",
    "plt.rcParams[\"font.family\"] = 'D2Coding'"
   ]
  },
  {
   "cell_type": "code",
   "execution_count": 2,
   "metadata": {},
   "outputs": [
    {
     "name": "stdout",
     "output_type": "stream",
     "text": [
      "    분류  운동을 할 충분한 시간이 없어서 함께 운동을 할 사람이 없어서  운동을 할 만한 장소가 없어서  운동을 싫어해서   기타\n",
      "0  서울시               49.7              8.1               5.8      34.7  1.7\n",
      "1   남자               55.2              7.9               5.5      29.8  1.6\n",
      "2   여자               45.0              8.3               6.0      38.8  1.8\n",
      "3  10대               55.7              6.1               5.6      32.2  0.3\n",
      "4  20대               54.8              6.9               5.2      32.9  0.1\n",
      "<class 'pandas.core.frame.DataFrame'>\n",
      "RangeIndex: 53 entries, 0 to 52\n",
      "Data columns (total 6 columns):\n",
      "분류                   53 non-null object\n",
      "운동을 할 충분한 시간이 없어서    53 non-null float64\n",
      "함께 운동을 할 사람이 없어서     53 non-null object\n",
      "운동을 할 만한 장소가 없어서     53 non-null float64\n",
      "운동을 싫어해서             53 non-null float64\n",
      "기타                   53 non-null object\n",
      "dtypes: float64(3), object(3)\n",
      "memory usage: 2.6+ KB\n",
      "None\n",
      "       운동을 할 충분한 시간이 없어서  운동을 할 만한 장소가 없어서   운동을 싫어해서\n",
      "count          53.000000         53.000000  53.000000\n",
      "mean           48.922642          5.639623  35.235849\n",
      "std             8.839675          1.855588   6.020768\n",
      "min            22.700000          0.600000  22.300000\n",
      "25%            46.000000          4.900000  31.500000\n",
      "50%            50.500000          5.700000  33.600000\n",
      "75%            54.900000          6.900000  37.800000\n",
      "max            65.300000         10.600000  50.700000\n"
     ]
    }
   ],
   "source": [
    "data = pd.read_excel('./data/Report2.xls')\n",
    "data.drop(columns='기간 대분류'.split(), inplace=True)\n",
    "print(data.head())\n",
    "print(data.info())\n",
    "print(data.describe())"
   ]
  },
  {
   "cell_type": "code",
   "execution_count": 3,
   "metadata": {},
   "outputs": [],
   "source": [
    "data.drop(data.index[9:], inplace=True)"
   ]
  },
  {
   "cell_type": "code",
   "execution_count": 4,
   "metadata": {},
   "outputs": [],
   "source": [
    "data.drop(range(0, 3), inplace=True)"
   ]
  },
  {
   "cell_type": "code",
   "execution_count": 5,
   "metadata": {},
   "outputs": [],
   "source": [
    "data.set_index('분류', inplace=True)"
   ]
  },
  {
   "cell_type": "code",
   "execution_count": 20,
   "metadata": {},
   "outputs": [
    {
     "data": {
      "text/html": [
       "<div>\n",
       "<style scoped>\n",
       "    .dataframe tbody tr th:only-of-type {\n",
       "        vertical-align: middle;\n",
       "    }\n",
       "\n",
       "    .dataframe tbody tr th {\n",
       "        vertical-align: top;\n",
       "    }\n",
       "\n",
       "    .dataframe thead th {\n",
       "        text-align: right;\n",
       "    }\n",
       "</style>\n",
       "<table border=\"1\" class=\"dataframe\">\n",
       "  <thead>\n",
       "    <tr style=\"text-align: right;\">\n",
       "      <th></th>\n",
       "      <th>운동을 할 충분한 시간이 없어서</th>\n",
       "      <th>함께 운동을 할 사람이 없어서</th>\n",
       "      <th>운동을 할 만한 장소가 없어서</th>\n",
       "      <th>운동을 싫어해서</th>\n",
       "      <th>기타</th>\n",
       "    </tr>\n",
       "    <tr>\n",
       "      <th>분류</th>\n",
       "      <th></th>\n",
       "      <th></th>\n",
       "      <th></th>\n",
       "      <th></th>\n",
       "      <th></th>\n",
       "    </tr>\n",
       "  </thead>\n",
       "  <tbody>\n",
       "    <tr>\n",
       "      <th>10대</th>\n",
       "      <td>55.7</td>\n",
       "      <td>6.1</td>\n",
       "      <td>5.6</td>\n",
       "      <td>32.2</td>\n",
       "      <td>0.3</td>\n",
       "    </tr>\n",
       "    <tr>\n",
       "      <th>20대</th>\n",
       "      <td>54.8</td>\n",
       "      <td>6.9</td>\n",
       "      <td>5.2</td>\n",
       "      <td>32.9</td>\n",
       "      <td>0.1</td>\n",
       "    </tr>\n",
       "    <tr>\n",
       "      <th>30대</th>\n",
       "      <td>58.1</td>\n",
       "      <td>5.5</td>\n",
       "      <td>4.6</td>\n",
       "      <td>31.6</td>\n",
       "      <td>0.2</td>\n",
       "    </tr>\n",
       "    <tr>\n",
       "      <th>40대</th>\n",
       "      <td>57.7</td>\n",
       "      <td>6.8</td>\n",
       "      <td>5.2</td>\n",
       "      <td>29.4</td>\n",
       "      <td>1</td>\n",
       "    </tr>\n",
       "    <tr>\n",
       "      <th>50대</th>\n",
       "      <td>50.1</td>\n",
       "      <td>9.2</td>\n",
       "      <td>7.2</td>\n",
       "      <td>32.2</td>\n",
       "      <td>1.4</td>\n",
       "    </tr>\n",
       "    <tr>\n",
       "      <th>60대 이상</th>\n",
       "      <td>27.5</td>\n",
       "      <td>12.8</td>\n",
       "      <td>6.9</td>\n",
       "      <td>46.8</td>\n",
       "      <td>6</td>\n",
       "    </tr>\n",
       "  </tbody>\n",
       "</table>\n",
       "</div>"
      ],
      "text/plain": [
       "        운동을 할 충분한 시간이 없어서 함께 운동을 할 사람이 없어서  운동을 할 만한 장소가 없어서  운동을 싫어해서   기타\n",
       "분류                                                                         \n",
       "10대                  55.7              6.1               5.6      32.2  0.3\n",
       "20대                  54.8              6.9               5.2      32.9  0.1\n",
       "30대                  58.1              5.5               4.6      31.6  0.2\n",
       "40대                  57.7              6.8               5.2      29.4    1\n",
       "50대                  50.1              9.2               7.2      32.2  1.4\n",
       "60대 이상               27.5             12.8               6.9      46.8    6"
      ]
     },
     "execution_count": 20,
     "metadata": {},
     "output_type": "execute_result"
    }
   ],
   "source": [
    "data"
   ]
  },
  {
   "cell_type": "code",
   "execution_count": 21,
   "metadata": {},
   "outputs": [
    {
     "data": {
      "image/png": "[encoded data removed]",
      "text/plain": [
       "<Figure size 432x288 with 1 Axes>"
      ]
     },
     "metadata": {},
     "output_type": "display_data"
    }
   ],
   "source": [
    "plt.pie(data.loc['10대'])\n",
    "plt.show()"
   ]
  },
  {
   "cell_type": "code",
   "execution_count": null,
   "metadata": {},
   "outputs": [],
   "source": []
  }
 ],
 "metadata": {
  "kernelspec": {
   "display_name": "Python 3",
   "language": "python",
   "name": "python3"
  },
  "language_info": {
   "codemirror_mode": {
    "name": "ipython",
    "version": 3
   },
   "file_extension": ".py",
   "mimetype": "text/x-python",
   "name": "python",
   "nbconvert_exporter": "python",
   "pygments_lexer": "ipython3",
   "version": "3.7.3"
  }
 },
 "nbformat": 4,
 "nbformat_minor": 2
}
